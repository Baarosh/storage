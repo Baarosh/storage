{
 "cells": [
  {
   "attachments": {},
   "cell_type": "markdown",
   "metadata": {},
   "source": [
    "e07_logging"
   ]
  },
  {
   "attachments": {},
   "cell_type": "markdown",
   "metadata": {},
   "source": [
    "Defined levels of severity:\n",
    "DEBUG ->\n",
    "INFO ->\n",
    "WARNING ->\n",
    "ERROR ->\n",
    "CRITICAL\n",
    "\n",
    "https://realpython.com/python-logging/\n",
    "\n",
    "https://docs.python.org/3/howto/logging.html"
   ]
  },
  {
   "cell_type": "code",
   "execution_count": 1,
   "metadata": {},
   "outputs": [
    {
     "name": "stderr",
     "output_type": "stream",
     "text": [
      "WARNING:root:Dupa\n",
      "ERROR:root:Dupa\n"
     ]
    }
   ],
   "source": [
    "import logging\n",
    "\n",
    "# logging.basicConfig(level=logging.DEBUG, format='%(name)s - %(levelname)s - %(message)s', force=True)\n",
    "\n",
    "message = 'Dupa'\n",
    "logging.info(msg=message)\n",
    "logging.warning(msg=message)\n",
    "logging.error(msg=message)"
   ]
  },
  {
   "cell_type": "code",
   "execution_count": 2,
   "metadata": {},
   "outputs": [
    {
     "name": "stderr",
     "output_type": "stream",
     "text": [
      "ERROR:root:Dupa\n",
      "Traceback (most recent call last):\n",
      "  File \"C:\\Users\\nlk04\\AppData\\Local\\Temp\\ipykernel_10308\\2787079203.py\", line 4, in <module>\n",
      "    c = a/b\n",
      "ZeroDivisionError: division by zero\n"
     ]
    }
   ],
   "source": [
    "a = 5\n",
    "b = 0\n",
    "try:\n",
    "    c = a/b\n",
    "except ZeroDivisionError as e:\n",
    "    logging.exception(msg=message)"
   ]
  },
  {
   "cell_type": "code",
   "execution_count": 6,
   "metadata": {},
   "outputs": [
    {
     "name": "stdout",
     "output_type": "stream",
     "text": [
      "2023-07-20 15:28:11,074 - __main__ - ERROR - d\n",
      "2023-07-20 15:28:11,075 - __main__ - ERROR - d\n"
     ]
    }
   ],
   "source": [
    "import logging\n",
    "import logging.config\n",
    "\n",
    "logging.config.fileConfig(fname='files/e07_logger.conf', disable_existing_loggers=False)\n",
    "\n",
    "logger = logging.getLogger(name = __name__)\n",
    "\n",
    "mess = 'd'\n",
    "\n",
    "logger.error(mess)\n",
    "\n",
    "# handler = logging.StreamHandler()\n",
    "# formatter = logging.Formatter('%(name)s ---- %(message)s')\n",
    "# handler.setLevel(logging.DEBUG)\n",
    "# handler.setFormatter(formatter)\n",
    "# logger.addHandler(handler)\n",
    "\n",
    "logger.error(mess)"
   ]
  },
  {
   "cell_type": "code",
   "execution_count": 9,
   "metadata": {},
   "outputs": [
    {
     "name": "stderr",
     "output_type": "stream",
     "text": [
      "2023-07-20 15:53:15,174 - __main__ - DEBUG - debug message\n",
      "2023-07-20 15:53:15,174 - __main__ - DEBUG - debug message\n"
     ]
    },
    {
     "name": "stdout",
     "output_type": "stream",
     "text": [
      "2023-07-20 15:53:15,174 - __main__ - DEBUG - debug message\n"
     ]
    },
    {
     "name": "stderr",
     "output_type": "stream",
     "text": [
      "2023-07-20 15:53:15,178 - __main__ - INFO - info message\n",
      "2023-07-20 15:53:15,178 - __main__ - INFO - info message\n"
     ]
    },
    {
     "name": "stdout",
     "output_type": "stream",
     "text": [
      "2023-07-20 15:53:15,178 - __main__ - INFO - info message\n"
     ]
    },
    {
     "name": "stderr",
     "output_type": "stream",
     "text": [
      "2023-07-20 15:53:15,183 - __main__ - WARNING - warn message\n",
      "2023-07-20 15:53:15,183 - __main__ - WARNING - warn message\n"
     ]
    },
    {
     "name": "stdout",
     "output_type": "stream",
     "text": [
      "2023-07-20 15:53:15,183 - __main__ - WARNING - warn message\n"
     ]
    },
    {
     "name": "stderr",
     "output_type": "stream",
     "text": [
      "2023-07-20 15:53:15,187 - __main__ - ERROR - error message\n",
      "2023-07-20 15:53:15,187 - __main__ - ERROR - error message\n"
     ]
    },
    {
     "name": "stdout",
     "output_type": "stream",
     "text": [
      "2023-07-20 15:53:15,187 - __main__ - ERROR - error message\n"
     ]
    },
    {
     "name": "stderr",
     "output_type": "stream",
     "text": [
      "2023-07-20 15:53:15,190 - __main__ - CRITICAL - critical message\n",
      "2023-07-20 15:53:15,190 - __main__ - CRITICAL - critical message\n"
     ]
    },
    {
     "name": "stdout",
     "output_type": "stream",
     "text": [
      "2023-07-20 15:53:15,190 - __main__ - CRITICAL - critical message\n"
     ]
    }
   ],
   "source": [
    "import logging\n",
    "import logging.config\n",
    "\n",
    "# logging.config.fileConfig('files/e07_logger.conf')\n",
    "\n",
    "# create logger\n",
    "logger = logging.getLogger(__name__)\n",
    "logger.setLevel(logging.DEBUG)\n",
    "\n",
    "# create console handler and set level to debug\n",
    "ch = logging.StreamHandler()\n",
    "ch.setLevel(logging.DEBUG)\n",
    "\n",
    "# create formatter\n",
    "formatter = logging.Formatter('%(asctime)s - %(name)s - %(levelname)s - %(message)s')\n",
    "\n",
    "# add formatter to ch\n",
    "ch.setFormatter(formatter)\n",
    "\n",
    "# add ch to logger\n",
    "logger.addHandler(ch)\n",
    "\n",
    "# 'application' code\n",
    "logger.debug('debug message')\n",
    "logger.info('info message')\n",
    "logger.warning('warn message')\n",
    "logger.error('error message')\n",
    "logger.critical('critical message')"
   ]
  }
 ],
 "metadata": {
  "kernelspec": {
   "display_name": ".venv",
   "language": "python",
   "name": "python3"
  },
  "language_info": {
   "codemirror_mode": {
    "name": "ipython",
    "version": 3
   },
   "file_extension": ".py",
   "mimetype": "text/x-python",
   "name": "python",
   "nbconvert_exporter": "python",
   "pygments_lexer": "ipython3",
   "version": "3.8.10"
  },
  "orig_nbformat": 4
 },
 "nbformat": 4,
 "nbformat_minor": 2
}
