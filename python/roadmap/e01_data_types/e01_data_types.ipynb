{
 "cells": [
  {
   "cell_type": "markdown",
   "metadata": {},
   "source": [
    "e01_data_types"
   ]
  },
  {
   "attachments": {},
   "cell_type": "markdown",
   "metadata": {
    "slideshow": {
     "slide_type": "slide"
    }
   },
   "source": [
    "Basics"
   ]
  },
  {
   "attachments": {},
   "cell_type": "markdown",
   "metadata": {},
   "source": [
    "Name of variable, class, function or module has to start with a letter A-Z/a-z or underscore followed by zero or more letters, underscores and digits.\n",
    "Python does not support characters like @, $ and %.\n",
    "\n",
    "All names should start with lowercase except class names (according to convention).\n",
    "\n",
    "If the name starts with underscore, it means it is intended to be used only within the function, class or module.\n",
    "\n",
    "Also \"from M import *\" will not import functions with leading underscore.\n",
    "\n",
    "One trailing underscore is used to avoid naming conflicts with Python keywords.\n",
    "\n",
    "Two leading underscores are mainly used within a class. Python converts variablename to _classname__variablename to prevent accidental access to it.\n",
    "\n",
    "Two leading underscores and two trailing underscores are reserved for builtin methods/variables.\n",
    "\n",
    "Python allows mutli-line statements (\"\\\" char at the end of the line) to denote that the line should continue.\n",
    "\n",
    "The char is not needed when statement is within brackets.\n",
    "\n",
    "Python accepts triple quotes to have multi-line string literals.\n",
    "\n",
    "\"#\" char for one line comment\n",
    "\" ''' \" chars to start/end multi-line comment (tripple single quiots).\n",
    "\n",
    "You can insert more than one statement in single line separating them by semicolon."
   ]
  },
  {
   "cell_type": "code",
   "execution_count": 2,
   "metadata": {},
   "outputs": [],
   "source": [
    "text1 = \"Text from line one, \" + \"Text from line two, \" + \"Text from line three.\"\n",
    "text2 = [\"Text from line one, \", \"Text from line two, \", \"Text from line three.\"]\n",
    "text3 = \"Text from line o\\\n",
    "        ne and two\""
   ]
  },
  {
   "cell_type": "code",
   "execution_count": 4,
   "metadata": {},
   "outputs": [
    {
     "name": "stdout",
     "output_type": "stream",
     "text": [
      "First statement\n",
      "Second statement\n"
     ]
    }
   ],
   "source": [
    "# Comment\n",
    "\"\"\"Also Comment\n",
    "\"\"\"\n",
    "print(\"First statement\");print(\"Second statement\")"
   ]
  },
  {
   "attachments": {},
   "cell_type": "markdown",
   "metadata": {},
   "source": [
    "Data types"
   ]
  },
  {
   "attachments": {},
   "cell_type": "markdown",
   "metadata": {},
   "source": [
    "Numbers (integers and floats):\n",
    "\n",
    "1+1, 1-1, 10*2, 35/5 - basic operations\n",
    "\n",
    "5//3 - rounded down to integer\n",
    "\n",
    "7%3 - modulo\n",
    "\n",
    "2**3 - exponentiation\n",
    "\n",
    "0b10 - binary representation"
   ]
  },
  {
   "cell_type": "code",
   "execution_count": 7,
   "metadata": {},
   "outputs": [],
   "source": [
    "# -- Integers --\n",
    "integer1 = 1000000000000244982325035 + 1\n",
    "integer2 = 0b10\n",
    "\n",
    "# -- Floats --\n",
    "float1 = 4.2242104210140\n",
    "float2 = 1.79e308"
   ]
  },
  {
   "attachments": {},
   "cell_type": "markdown",
   "metadata": {},
   "source": [
    "Boolean:\n",
    "\n",
    "True, False - capitalization\n",
    "\n",
    "not True - negate with \"not\"\n",
    "\n",
    "\"and\" and \"or\" - boolean operators, \"&\" and \"|\" is not an alternative for \"and\" and \"or\"\n",
    "\n",
    "True == 1\n",
    "False == 0\n",
    "\n",
    "Falsy values: None, 0, empty strings,lists,dicts,tuples,sets ('', [], {})\n",
    "\n",
    "Truthy values: All other\n",
    "\n",
    "1 < 2 and 2 < 3 you can make it nicer by chaining to 1 < 2 < 3\n",
    "\n",
    "\"is\" checks if two variables refer to the same object.\n",
    "\"==\" checks if objects pointed to have the same value.\n",
    "\n",
    "\"in\" checks if existance of an object in list."
   ]
  },
  {
   "cell_type": "code",
   "execution_count": 9,
   "metadata": {},
   "outputs": [],
   "source": [
    "# -- Booleans --\n",
    "assert True == 1\n",
    "assert False == 0"
   ]
  },
  {
   "attachments": {},
   "cell_type": "markdown",
   "metadata": {},
   "source": [
    "Strings:\n",
    "\n",
    "String is treated as a set of characters.\n",
    "\n",
    "Immutable. Cannot change an element of the string.\n",
    "\n",
    "Can be added like 'aaa' + 'bbb'\n",
    "\n",
    "If only literals, can be concatenated without \"+\" like 'aaa' 'bbb'\n",
    "\n",
    "Formating: '{[expr][!conversion][:format_spec]}'.format(expr)\n",
    "\n",
    "F-strings since 3.6 - expressions nested within string: f'{[expr][!conversion][:format_spec]}'\n",
    "\n",
    "Backslash \\ for special action (escape). \\n \\t.\n",
    "\n",
    "Raw string r''\n",
    "\n",
    "None is an object.\n",
    "\n",
    "There is one liner if else expression works as ternary operator\n",
    "'aaa' if 1 > 0 else 'bbb'"
   ]
  },
  {
   "cell_type": "code",
   "execution_count": 10,
   "metadata": {},
   "outputs": [],
   "source": [
    "# -- Strings --\n",
    "string1 = \"Hel\\nlo\"\n",
    "string2 = r\"Hel\\nlo\"\n",
    "string3 = \"{str!s} World!\".format(str=string1)\n",
    "string4 = \"Age of {num:e}\".format(num=integer1)\n",
    "string5 = \"Num {num:.5f}\".format(num=float1)"
   ]
  },
  {
   "attachments": {},
   "cell_type": "markdown",
   "metadata": {},
   "source": [
    "Collections"
   ]
  },
  {
   "attachments": {},
   "cell_type": "markdown",
   "metadata": {},
   "source": [
    "Lists - set of elements ordered. Mutable (it means you can modify its' elements).\n",
    "\n",
    "Tuples - like lists but immutable.\n",
    "\n",
    "Dictionaries - store mappings from keys to values. Mutable however keys have to be immutable type to ensure key can be converted to a constant hash value for quick look-ups. These are numbers, strings and tuples. Order of elements is kept starting from Python 3.7.\n",
    "\n",
    "Sets - Mutable however elements have to be immutable type, order is not kept. There cannot be duplicated values within set.\n",
    "\n",
    "Hash - fixed sized integer that identifies a particular value. Each value has its own hash. For the same value we get the same hash (even if it is different object). Enables quick look-up of values in large collections. Every Python run hash for same value is different."
   ]
  },
  {
   "cell_type": "code",
   "execution_count": 21,
   "metadata": {},
   "outputs": [
    {
     "data": {
      "text/plain": [
       "False"
      ]
     },
     "execution_count": 21,
     "metadata": {},
     "output_type": "execute_result"
    }
   ],
   "source": [
    "\n",
    "# --- Lists ---\n",
    "list1 = []\n",
    "list2 = [1, 2, 3, 5]\n",
    "list(list1)\n",
    "# append to the end\n",
    "list1.append(7)\n",
    "# insert\n",
    "list1.insert(1, 5)\n",
    "# remove from given position or from the end if no arg\n",
    "list1.pop()\n",
    "# remove first occurance of a value\n",
    "list2.remove(1)\n",
    "# accessing\n",
    "list2[2]\n",
    "list1[-1]\n",
    "list1[1:2:1]\n",
    "# modify its element - proof of being mutable\n",
    "list2[1] = 5\n",
    "# copy?\n",
    "list3 = list1[:]\n",
    "# delete element\n",
    "del list2[2]\n",
    "# add two lists\n",
    "list1 + list2\n",
    "# extend list with values from naother list\n",
    "list1.extend(list2)\n",
    "# check if value exists in list\n",
    "1 in list1\n",
    "# get length of list\n",
    "len(list1)\n",
    "# count occurance of an object in list\n",
    "list1.count(2)\n",
    "# reverse list\n",
    "list1.reverse()\n",
    "# unpacking list to variables\n",
    "a, b, c = [1, 2, 3]\n",
    "a, b, *c = [1, 2, 3, 5, 6, 7, 8]\n",
    "# swap two values\n",
    "a, b = b, a\n",
    "\n",
    "# --- Tuples ---\n",
    "tuple1 = ()\n",
    "tuple2 = (5, 6, 7, 8)\n",
    "# accessing as in lists\n",
    "tuple2[0]\n",
    "tuple2[-1]\n",
    "\n",
    "# --- Dictionaries ---\n",
    "dict1 = {}\n",
    "dict2 = {\"a\": 1, \"b\": 2}\n",
    "dict3 = {(1, 2): 1}\n",
    "# access via key in bracket\n",
    "dict2[\"a\"]\n",
    "dict2[\"b\"] = 3\n",
    "# getting all keys, all values. For efficiency, it is much better to iterate through dict itself.\n",
    "dict2.keys()\n",
    "dict2.values()\n",
    "# check occurance within keys\n",
    "\"a\" in dict2\n",
    "# try to get key value, if none, throws an error\n",
    "try:\n",
    "    dict2[\"c\"]\n",
    "except KeyError as e:\n",
    "    pass\n",
    "# try same but if none, default value is returned\n",
    "dict2.get(\"c\", None)\n",
    "# insert into dict only if key doesnt exist\n",
    "dict2.setdefault(\"c\", 4)\n",
    "# adding new pair to dict\n",
    "dict2.update({\"d\": 5})\n",
    "dict2[\"d\"] = 5\n",
    "# unpacking\n",
    "dict2 = {\"q\": 1, **dict1}\n",
    "\n",
    "# --- Sets ---\n",
    "set1 = set()\n",
    "set2 = {1, 2, 3, 4, 5}\n",
    "# Add element\n",
    "set2.add(6)\n",
    "set2.add(6)\n",
    "# Set intersection\n",
    "a = {1, 2}\n",
    "b = {2, 3}\n",
    "a & b\n",
    "# Set union\n",
    "a | b\n",
    "# Set difference\n",
    "a - b\n",
    "# Symmetric difference\n",
    "a ^ b\n",
    "# Check if set on the left is a superset of the set on the right\n",
    "a >= b"
   ]
  },
  {
   "attachments": {},
   "cell_type": "markdown",
   "metadata": {},
   "source": [
    "Built-in functions"
   ]
  },
  {
   "attachments": {},
   "cell_type": "markdown",
   "metadata": {},
   "source": [
    "https://realpython.com/python-data-types/#built-in-functions"
   ]
  },
  {
   "cell_type": "code",
   "execution_count": 24,
   "metadata": {},
   "outputs": [
    {
     "name": "stdout",
     "output_type": "stream",
     "text": [
      "a;b;c!"
     ]
    },
    {
     "data": {
      "text/plain": [
       "True"
      ]
     },
     "execution_count": 24,
     "metadata": {},
     "output_type": "execute_result"
    }
   ],
   "source": [
    "# --- Built-in functions ---\n",
    "bin(233)\n",
    "bool(1)\n",
    "int('5', base=10)\n",
    "str(5)\n",
    "type(\"1\")\n",
    "all([1, 1, 1, 0])\n",
    "any([1, 1, 1, 0])\n",
    "enumerate([1, 1])\n",
    "len([])\n",
    "range(50, 100, 2)\n",
    "reversed([1, 2, 3])\n",
    "sorted([5, 6, 2])\n",
    "dict([(\"a\", 1), (\"b\", 2)])\n",
    "list((1, 2, 3, 5))\n",
    "set([1, 2, 3, 4, 5, 6])\n",
    "tuple([1, 2, 3])\n",
    "isinstance(\"a\", str)\n",
    "# input(\"Hello\")\n",
    "# with open(file=\"dupa.csv\", mode=\"r\") as f:\n",
    "#     f.readlines()\n",
    "print(\"a\", \"b\", \"c\", sep=\";\", end=\"!\")\n",
    "callable(lambda x: x+2)"
   ]
  },
  {
   "attachments": {},
   "cell_type": "markdown",
   "metadata": {},
   "source": [
    "Conditional statements"
   ]
  },
  {
   "cell_type": "code",
   "execution_count": 25,
   "metadata": {},
   "outputs": [
    {
     "name": "stdout",
     "output_type": "stream",
     "text": [
      "go\n"
     ]
    }
   ],
   "source": [
    "command = \"go\"\n",
    "match command:\n",
    "    case \"stop\":\n",
    "        print(\"stop\")\n",
    "    case \"go\":\n",
    "        print(\"go\")\n",
    "    case other:\n",
    "        #     case _:\n",
    "        print(\"other\")"
   ]
  }
 ],
 "metadata": {
  "kernelspec": {
   "display_name": ".venv",
   "language": "python",
   "name": "python3"
  },
  "language_info": {
   "codemirror_mode": {
    "name": "ipython",
    "version": 3
   },
   "file_extension": ".py",
   "mimetype": "text/x-python",
   "name": "python",
   "nbconvert_exporter": "python",
   "pygments_lexer": "ipython3",
   "version": "3.11.2"
  },
  "orig_nbformat": 4
 },
 "nbformat": 4,
 "nbformat_minor": 2
}
