{
 "cells": [
  {
   "attachments": {},
   "cell_type": "markdown",
   "metadata": {},
   "source": [
    "e04_working_with_files"
   ]
  },
  {
   "attachments": {},
   "cell_type": "markdown",
   "metadata": {},
   "source": [
    "open returns a file object.\n",
    "\n",
    "First argument is filename (path to the file).\n",
    "Second argument is mode - it describes the way file will be used (overwrite, read-only, append).\n",
    "Encoding argument specifies what type of encoding you want to use while working with the file (standard utf-8).\n",
    "\n",
    "It is good practice to use the with keyword when dealing with file objects. The advantage is that the file is properly closed after you code is finished, even if an exception is raised at some point.\n"
   ]
  },
  {
   "cell_type": "code",
   "execution_count": 41,
   "metadata": {},
   "outputs": [
    {
     "name": "stdout",
     "output_type": "stream",
     "text": [
      "0\n",
      "16\n",
      "25\n",
      "['This is a test\\n', 'Number: 5']\n"
     ]
    }
   ],
   "source": [
    "with open('e04_workfile.txt', mode='r', encoding='utf-8') as f:\n",
    "    read_data = f.read(5)\n",
    "    read_data2 = f.read()\n",
    "\n",
    "f.closed\n",
    "read_data\n",
    "read_data2\n",
    "\n",
    "with open('e04_workfile.txt', mode='r', encoding='utf-8') as f:\n",
    "    # read_data3 = f.readline()\n",
    "    read_data4 = [line for line in f]\n",
    "\n",
    "read_data4\n",
    "\n",
    "with open('e04_workfile.txt', mode='r+', encoding='utf-8') as f:\n",
    "    print(f.tell())\n",
    "    f.write('This is a test\\n')\n",
    "    # f.write(5)\n",
    "    print(f.tell())\n",
    "    f.write(f'Number: {5}')\n",
    "    print(f.tell())\n",
    "    f.seek(0)\n",
    "    print(f.readlines())\n",
    "\n"
   ]
  },
  {
   "attachments": {},
   "cell_type": "markdown",
   "metadata": {},
   "source": [
    "When you want to save more complex data types like nested lists and dictionaries, parsing and serializing by hand becomes complicated.\n",
    "Python allows you to use popular data interchange format called JSON. The standard module called json can take Python data hierarchies and convert them to string representations - it is called serializing. Reconstructing the data from the string representation is called deserializing. It will be covered in later chapter."
   ]
  },
  {
   "cell_type": "code",
   "execution_count": 45,
   "metadata": {},
   "outputs": [],
   "source": [
    "import json\n",
    "x = [1, 'simple', 'list', True, None]\n",
    "json.dumps(x)\n",
    "\n",
    "with open('e04_workfile.json', mode='w', encoding='utf-8') as f:\n",
    "    json.dump(x, f)"
   ]
  }
 ],
 "metadata": {
  "kernelspec": {
   "display_name": ".venv",
   "language": "python",
   "name": "python3"
  },
  "language_info": {
   "codemirror_mode": {
    "name": "ipython",
    "version": 3
   },
   "file_extension": ".py",
   "mimetype": "text/x-python",
   "name": "python",
   "nbconvert_exporter": "python",
   "pygments_lexer": "ipython3",
   "version": "3.11.2"
  },
  "orig_nbformat": 4
 },
 "nbformat": 4,
 "nbformat_minor": 2
}
