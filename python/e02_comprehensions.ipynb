{
 "cells": [
  {
   "attachments": {},
   "cell_type": "markdown",
   "metadata": {},
   "source": [
    "e02_comprehensions"
   ]
  },
  {
   "attachments": {},
   "cell_type": "markdown",
   "metadata": {},
   "source": [
    "Comprehensions provide a concise way to create collections (lists, tuples, dicts and sets). It consists of brackets containing an expression followed by a for clause. The result will be a new list resulting from evaluating the expression."
   ]
  },
  {
   "cell_type": "code",
   "execution_count": 37,
   "metadata": {},
   "outputs": [
    {
     "data": {
      "text/plain": [
       "(0, 1, 2, 3, 4)"
      ]
     },
     "execution_count": 37,
     "metadata": {},
     "output_type": "execute_result"
    }
   ],
   "source": [
    "list1 = list(range(5))\n",
    "list2 = list(range(2))\n",
    "compr_list1 = [x for x in list1]\n",
    "compr_list2 = [(x,y,z) for x in list1 for y in list2 if x != y for z in list1 if z not in [x,y]]\n",
    "compr_list3 = [[[x,y] for y in list2] for x in list1]\n",
    "compr_list4 = [x**2 if x > 2 else x**3 for x in list1]\n",
    "compr_dict1 = {x:x**2 for x in list1}\n",
    "compr_set1 = {x for x in list1}\n",
    "compr_tuple1 = tuple(x for x in list1)\n",
    "compr_tuple1"
   ]
  },
  {
   "attachments": {},
   "cell_type": "markdown",
   "metadata": {},
   "source": [
    "Walrus operator allows to run an expression while simultaneously assigning the output value to a variable."
   ]
  },
  {
   "cell_type": "code",
   "execution_count": 38,
   "metadata": {},
   "outputs": [],
   "source": [
    "import random\n",
    "\n",
    "def get_weather_data():\n",
    "    return random.randrange(90, 110)\n",
    "\n",
    "hot_temps = [temp for _ in range(20) if (temp := get_weather_data()) >= 100]"
   ]
  }
 ],
 "metadata": {
  "kernelspec": {
   "display_name": ".venv",
   "language": "python",
   "name": "python3"
  },
  "language_info": {
   "codemirror_mode": {
    "name": "ipython",
    "version": 3
   },
   "file_extension": ".py",
   "mimetype": "text/x-python",
   "name": "python",
   "nbconvert_exporter": "python",
   "pygments_lexer": "ipython3",
   "version": "3.11.2"
  },
  "orig_nbformat": 4
 },
 "nbformat": 4,
 "nbformat_minor": 2
}
